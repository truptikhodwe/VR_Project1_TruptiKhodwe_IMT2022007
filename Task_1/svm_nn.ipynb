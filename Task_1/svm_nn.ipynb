{
 "cells": [
  {
   "cell_type": "code",
   "execution_count": 3,
   "metadata": {},
   "outputs": [],
   "source": [
    "import cv2\n",
    "import os\n",
    "import numpy as np\n",
    "import mahotas as mt\n",
    "import matplotlib.pyplot as plt\n",
    "from skimage.feature import hog, local_binary_pattern\n",
    "from skimage.color import rgb2gray\n",
    "from sklearn.model_selection import train_test_split\n",
    "from sklearn.preprocessing import StandardScaler\n",
    "from sklearn.svm import SVC\n",
    "from sklearn.neural_network import MLPClassifier\n",
    "from sklearn.metrics import accuracy_score, classification_report, confusion_matrix\n"
   ]
  },
  {
   "cell_type": "code",
   "execution_count": null,
   "metadata": {},
   "outputs": [],
   "source": [
    "def load_images_from_folder(folder, label):\n",
    "    images = []\n",
    "    labels = []\n",
    "    \n",
    "    for filename in os.listdir(folder):\n",
    "        img_path = os.path.join(folder, filename)\n",
    "        img = cv2.imread(img_path)  # Loading image\n",
    "        if img is not None:\n",
    "            img = cv2.resize(img, (128, 128))  # Resizeing for consistency\n",
    "            images.append(img)\n",
    "            labels.append(label)\n",
    "    \n",
    "    return images, labels\n",
    "\n",
    "# Loading both categories\n",
    "with_mask_images, with_mask_labels = load_images_from_folder(\"../dataset/with_mask\", 1)\n",
    "without_mask_images, without_mask_labels = load_images_from_folder(\"../dataset/without_mask\", 0)\n",
    "\n",
    "# Combining datasets\n",
    "X_images = with_mask_images + without_mask_images\n",
    "y_labels = with_mask_labels + without_mask_labels\n"
   ]
  },
  {
   "cell_type": "code",
   "execution_count": null,
   "metadata": {},
   "outputs": [],
   "source": [
    "def extract_hog_features(image):\n",
    "    gray = rgb2gray(image)  # Converting to grayscale\n",
    "    features, _ = hog(gray, pixels_per_cell=(8, 8), cells_per_block=(2, 2), visualize=True)\n",
    "    return features"
   ]
  },
  {
   "cell_type": "code",
   "execution_count": 6,
   "metadata": {},
   "outputs": [],
   "source": [
    "def extract_lbp_features(image, radius=1, n_points=8):\n",
    "    gray = cv2.cvtColor(image, cv2.COLOR_BGR2GRAY)\n",
    "    lbp = local_binary_pattern(gray, n_points, radius, method=\"uniform\")\n",
    "    hist, _ = np.histogram(lbp.ravel(), bins=np.arange(0, n_points + 3), density=True)\n",
    "    return hist\n"
   ]
  },
  {
   "cell_type": "code",
   "execution_count": null,
   "metadata": {},
   "outputs": [],
   "source": [
    "def extract_canny_features(image):\n",
    "    gray = cv2.cvtColor(image, cv2.COLOR_BGR2GRAY)\n",
    "    edges = cv2.Canny(gray, 100, 200)  # Applying Canny edge detection\n",
    "    return edges.flatten()  # Flattening the edge image into a feature vector\n"
   ]
  },
  {
   "cell_type": "code",
   "execution_count": null,
   "metadata": {},
   "outputs": [],
   "source": [
    "def extract_color_histogram(image, bins=32):\n",
    "    hsv = cv2.cvtColor(image, cv2.COLOR_BGR2HSV)  # Converting to HSV\n",
    "    hist = cv2.calcHist([hsv], [0, 1, 2], None, [bins, bins, bins], [0, 256, 0, 256, 0, 256])\n",
    "    return hist.flatten()\n"
   ]
  },
  {
   "cell_type": "code",
   "execution_count": null,
   "metadata": {},
   "outputs": [],
   "source": [
    "def extract_features(image):\n",
    "    hog_feat = extract_hog_features(image)\n",
    "    lbp_feat = extract_lbp_features(image)\n",
    "    canny_feat = extract_canny_features(image)\n",
    "    color_hist_feat = extract_color_histogram(image)\n",
    "\n",
    "    # Concatenating all features into one feature vector\n",
    "    feature_vector = np.hstack((hog_feat, lbp_feat, canny_feat, color_hist_feat))\n",
    "    return feature_vector\n",
    "\n",
    "# Extracting features from all images\n",
    "X_features = np.array([extract_features(img) for img in X_images])\n",
    "y = np.array(y_labels)\n"
   ]
  },
  {
   "cell_type": "code",
   "execution_count": 10,
   "metadata": {},
   "outputs": [],
   "source": [
    "X_train, X_test, y_train, y_test = train_test_split(X_features, y, test_size=0.2, random_state=42)\n",
    "scaler = StandardScaler()\n",
    "X_train = scaler.fit_transform(X_train)\n",
    "X_test = scaler.transform(X_test)\n"
   ]
  },
  {
   "cell_type": "code",
   "execution_count": 11,
   "metadata": {},
   "outputs": [
    {
     "name": "stdout",
     "output_type": "stream",
     "text": [
      "SVM Accuracy: 0.9263803680981595\n",
      "              precision    recall  f1-score   support\n",
      "\n",
      "           0       0.90      0.94      0.92       362\n",
      "           1       0.95      0.92      0.93       453\n",
      "\n",
      "    accuracy                           0.93       815\n",
      "   macro avg       0.92      0.93      0.93       815\n",
      "weighted avg       0.93      0.93      0.93       815\n",
      "\n"
     ]
    }
   ],
   "source": [
    "svm_model = SVC(kernel=\"linear\")\n",
    "svm_model.fit(X_train, y_train)\n",
    "\n",
    "svm_preds = svm_model.predict(X_test)\n",
    "svm_acc = accuracy_score(y_test, svm_preds)\n",
    "\n",
    "print(\"SVM Accuracy:\", svm_acc)\n",
    "print(classification_report(y_test, svm_preds))\n"
   ]
  },
  {
   "cell_type": "code",
   "execution_count": null,
   "metadata": {},
   "outputs": [
    {
     "name": "stdout",
     "output_type": "stream",
     "text": [
      "Model saved successfully!\n"
     ]
    }
   ],
   "source": [
    "import joblib\n",
    "\n",
    "# Saving the trained model\n",
    "joblib.dump(svm_model, \"svm_mask_classifier.pkl\")\n",
    "print(\"Model saved successfully!\")\n"
   ]
  },
  {
   "cell_type": "code",
   "execution_count": 13,
   "metadata": {},
   "outputs": [
    {
     "data": {
      "text/plain": [
       "['scaler.pkl']"
      ]
     },
     "execution_count": 13,
     "metadata": {},
     "output_type": "execute_result"
    }
   ],
   "source": [
    "joblib.dump(scaler, \"scaler.pkl\")"
   ]
  },
  {
   "cell_type": "code",
   "execution_count": 14,
   "metadata": {},
   "outputs": [
    {
     "name": "stdout",
     "output_type": "stream",
     "text": [
      "MLP Accuracy: 0.9251533742331288\n",
      "              precision    recall  f1-score   support\n",
      "\n",
      "           0       0.90      0.93      0.92       362\n",
      "           1       0.94      0.92      0.93       453\n",
      "\n",
      "    accuracy                           0.93       815\n",
      "   macro avg       0.92      0.93      0.92       815\n",
      "weighted avg       0.93      0.93      0.93       815\n",
      "\n"
     ]
    }
   ],
   "source": [
    "mlp_model = MLPClassifier(hidden_layer_sizes=(100,), max_iter=500, activation=\"relu\")\n",
    "mlp_model.fit(X_train, y_train)\n",
    "\n",
    "mlp_preds = mlp_model.predict(X_test)\n",
    "mlp_acc = accuracy_score(y_test, mlp_preds)\n",
    "\n",
    "print(\"MLP Accuracy:\", mlp_acc)\n",
    "print(classification_report(y_test, mlp_preds))\n"
   ]
  },
  {
   "cell_type": "code",
   "execution_count": null,
   "metadata": {},
   "outputs": [
    {
     "name": "stdout",
     "output_type": "stream",
     "text": [
      "Model saved successfully!\n"
     ]
    }
   ],
   "source": [
    "# Saving the trained model\n",
    "joblib.dump(mlp_model, \"mlp_mask_classifier.pkl\")\n",
    "print(\"Model saved successfully!\")\n"
   ]
  },
  {
   "cell_type": "code",
   "execution_count": 16,
   "metadata": {},
   "outputs": [
    {
     "name": "stdout",
     "output_type": "stream",
     "text": [
      "SVM Accuracy: 0.9264\n",
      "MLP Accuracy: 0.9252\n"
     ]
    }
   ],
   "source": [
    "print(f\"SVM Accuracy: {svm_acc:.4f}\")\n",
    "print(f\"MLP Accuracy: {mlp_acc:.4f}\")\n"
   ]
  },
  {
   "cell_type": "code",
   "execution_count": 17,
   "metadata": {},
   "outputs": [
    {
     "data": {
      "image/png": "[encoded data removed]",
      "text/plain": [
       "<Figure size 500x400 with 2 Axes>"
      ]
     },
     "metadata": {},
     "output_type": "display_data"
    },
    {
     "data": {
      "image/png": "[encoded data removed]",
      "text/plain": [
       "<Figure size 500x400 with 2 Axes>"
      ]
     },
     "metadata": {},
     "output_type": "display_data"
    }
   ],
   "source": [
    "import seaborn as sns\n",
    "import matplotlib.pyplot as plt\n",
    "\n",
    "def plot_confusion_matrix(y_true, y_pred, title):\n",
    "    cm = confusion_matrix(y_true, y_pred)\n",
    "    plt.figure(figsize=(5, 4))\n",
    "    sns.heatmap(cm, annot=True, fmt=\"d\", cmap=\"Blues\")\n",
    "    plt.xlabel(\"Predicted\")\n",
    "    plt.ylabel(\"Actual\")\n",
    "    plt.title(title)\n",
    "    plt.show()\n",
    "\n",
    "plot_confusion_matrix(y_test, svm_preds, \"SVM Confusion Matrix\")\n",
    "plot_confusion_matrix(y_test, mlp_preds, \"MLP Confusion Matrix\")\n"
   ]
  },
  {
   "cell_type": "markdown",
   "metadata": {},
   "source": [
    "## Trying out different optimizations:"
   ]
  },
  {
   "cell_type": "code",
   "execution_count": null,
   "metadata": {},
   "outputs": [],
   "source": [
    "def load_images_from_folder(folder, label):\n",
    "    images = []\n",
    "    labels = []\n",
    "    \n",
    "    for filename in os.listdir(folder):\n",
    "        img_path = os.path.join(folder, filename)\n",
    "        img = cv2.imread(img_path)  # Loading image\n",
    "        if img is not None:\n",
    "            img = cv2.resize(img, (128, 128))  # Resizing for consistency\n",
    "            images.append(img)\n",
    "            labels.append(label)\n",
    "    \n",
    "    return images, labels\n",
    "\n",
    "# Loading both categories\n",
    "with_mask_images, with_mask_labels = load_images_from_folder(\"../dataset/with_mask\", 1)\n",
    "without_mask_images, without_mask_labels = load_images_from_folder(\"../dataset/without_mask\", 0)\n",
    "\n",
    "# Combining datasets\n",
    "X_images = with_mask_images + without_mask_images\n",
    "y_labels = with_mask_labels + without_mask_labels\n"
   ]
  },
  {
   "cell_type": "code",
   "execution_count": null,
   "metadata": {},
   "outputs": [],
   "source": [
    "def extract_hog_features(image):\n",
    "    gray = rgb2gray(image)  # Converting to grayscale\n",
    "    features, _ = hog(gray, pixels_per_cell=(4, 4), cells_per_block=(3, 3), visualize=True)     # adjusting pixels_per_cell and cells_per_block\n",
    "    return features"
   ]
  },
  {
   "cell_type": "code",
   "execution_count": null,
   "metadata": {},
   "outputs": [],
   "source": [
    "def extract_lbp_features(image, radius=2, n_points=16):     # adjusting radius and n_points\n",
    "    gray = cv2.cvtColor(image, cv2.COLOR_BGR2GRAY)\n",
    "    lbp = local_binary_pattern(gray, n_points, radius, method=\"uniform\")\n",
    "    hist, _ = np.histogram(lbp.ravel(), bins=np.arange(0, n_points + 3), density=True)\n",
    "    return hist\n"
   ]
  },
  {
   "cell_type": "code",
   "execution_count": null,
   "metadata": {},
   "outputs": [],
   "source": [
    "def extract_canny_features(image):\n",
    "    gray = cv2.cvtColor(image, cv2.COLOR_BGR2GRAY)\n",
    "    edges = cv2.Canny(gray, 50, 150)  # Applying Canny edge detection      # adjusting parameters\n",
    "    return edges.flatten()  # Flattening the edge image into a feature vector\n"
   ]
  },
  {
   "cell_type": "code",
   "execution_count": null,
   "metadata": {},
   "outputs": [],
   "source": [
    "def extract_color_histogram(image, bins=32):\n",
    "    hsv = cv2.cvtColor(image, cv2.COLOR_BGR2HSV)  # Converting to HSV\n",
    "    hist = cv2.calcHist([hsv], [0, 1, 2], None, [bins, bins, bins], [0, 256, 0, 256, 0, 256])\n",
    "    return hist.flatten()\n"
   ]
  },
  {
   "cell_type": "code",
   "execution_count": null,
   "metadata": {},
   "outputs": [],
   "source": [
    "def extract_features(image):\n",
    "    hog_feat = extract_hog_features(image)\n",
    "    lbp_feat = extract_lbp_features(image)\n",
    "    canny_feat = extract_canny_features(image)\n",
    "    color_hist_feat = extract_color_histogram(image)\n",
    "\n",
    "    # Concatenating all features into one feature vector\n",
    "    feature_vector = np.hstack((hog_feat, lbp_feat, canny_feat, color_hist_feat))\n",
    "    return feature_vector\n",
    "\n",
    "# Extracting features from all images\n",
    "X_features = np.array([extract_features(img) for img in X_images])\n",
    "y = np.array(y_labels)\n"
   ]
  },
  {
   "cell_type": "code",
   "execution_count": 24,
   "metadata": {},
   "outputs": [],
   "source": [
    "X_train, X_test, y_train, y_test = train_test_split(X_features, y, test_size=0.2, random_state=42)\n",
    "scaler = StandardScaler()\n",
    "X_train = scaler.fit_transform(X_train)\n",
    "X_test = scaler.transform(X_test)\n"
   ]
  },
  {
   "cell_type": "code",
   "execution_count": 25,
   "metadata": {},
   "outputs": [
    {
     "name": "stdout",
     "output_type": "stream",
     "text": [
      "SVM Accuracy: 0.9447852760736196\n",
      "              precision    recall  f1-score   support\n",
      "\n",
      "           0       0.93      0.95      0.94       362\n",
      "           1       0.96      0.94      0.95       453\n",
      "\n",
      "    accuracy                           0.94       815\n",
      "   macro avg       0.94      0.95      0.94       815\n",
      "weighted avg       0.95      0.94      0.94       815\n",
      "\n"
     ]
    }
   ],
   "source": [
    "svm_model = SVC(kernel=\"linear\")\n",
    "svm_model.fit(X_train, y_train)\n",
    "\n",
    "svm_preds = svm_model.predict(X_test)\n",
    "svm_acc = accuracy_score(y_test, svm_preds)\n",
    "\n",
    "print(\"SVM Accuracy:\", svm_acc)\n",
    "print(classification_report(y_test, svm_preds))\n"
   ]
  },
  {
   "cell_type": "code",
   "execution_count": null,
   "metadata": {},
   "outputs": [
    {
     "name": "stdout",
     "output_type": "stream",
     "text": [
      "Model saved successfully!\n"
     ]
    }
   ],
   "source": [
    "import joblib\n",
    "\n",
    "# Saving the trained model\n",
    "joblib.dump(svm_model, \"svm_mask_classifier_modified.pkl\")\n",
    "print(\"Model saved successfully!\")\n"
   ]
  },
  {
   "cell_type": "code",
   "execution_count": 27,
   "metadata": {},
   "outputs": [
    {
     "data": {
      "text/plain": [
       "['scaler_modified.pkl']"
      ]
     },
     "execution_count": 27,
     "metadata": {},
     "output_type": "execute_result"
    }
   ],
   "source": [
    "joblib.dump(scaler, \"scaler_modified.pkl\")"
   ]
  },
  {
   "cell_type": "code",
   "execution_count": 28,
   "metadata": {},
   "outputs": [
    {
     "name": "stdout",
     "output_type": "stream",
     "text": [
      "MLP Accuracy: 0.9312883435582822\n",
      "              precision    recall  f1-score   support\n",
      "\n",
      "           0       0.91      0.94      0.92       362\n",
      "           1       0.95      0.93      0.94       453\n",
      "\n",
      "    accuracy                           0.93       815\n",
      "   macro avg       0.93      0.93      0.93       815\n",
      "weighted avg       0.93      0.93      0.93       815\n",
      "\n"
     ]
    }
   ],
   "source": [
    "mlp_model = MLPClassifier(hidden_layer_sizes=(128, 64), max_iter=1000, activation=\"relu\")\n",
    "mlp_model.fit(X_train, y_train)\n",
    "\n",
    "mlp_preds = mlp_model.predict(X_test)\n",
    "mlp_acc = accuracy_score(y_test, mlp_preds)\n",
    "\n",
    "print(\"MLP Accuracy:\", mlp_acc)\n",
    "print(classification_report(y_test, mlp_preds))\n"
   ]
  },
  {
   "cell_type": "code",
   "execution_count": null,
   "metadata": {},
   "outputs": [
    {
     "name": "stdout",
     "output_type": "stream",
     "text": [
      "Model saved successfully!\n"
     ]
    }
   ],
   "source": [
    "# Saving the trained model\n",
    "joblib.dump(mlp_model, \"mlp_mask_classifier_modified.pkl\")\n",
    "print(\"Model saved successfully!\")\n"
   ]
  },
  {
   "cell_type": "code",
   "execution_count": 30,
   "metadata": {},
   "outputs": [
    {
     "name": "stdout",
     "output_type": "stream",
     "text": [
      "SVM Accuracy: 0.9448\n",
      "MLP Accuracy: 0.9313\n"
     ]
    }
   ],
   "source": [
    "print(f\"SVM Accuracy: {svm_acc:.4f}\")\n",
    "print(f\"MLP Accuracy: {mlp_acc:.4f}\")\n"
   ]
  },
  {
   "cell_type": "code",
   "execution_count": 31,
   "metadata": {},
   "outputs": [
    {
     "data": {
      "image/png": "[encoded data removed]",
      "text/plain": [
       "<Figure size 500x400 with 2 Axes>"
      ]
     },
     "metadata": {},
     "output_type": "display_data"
    },
    {
     "data": {
      "image/png": "[encoded data removed]",
      "text/plain": [
       "<Figure size 500x400 with 2 Axes>"
      ]
     },
     "metadata": {},
     "output_type": "display_data"
    }
   ],
   "source": [
    "import seaborn as sns\n",
    "import matplotlib.pyplot as plt\n",
    "\n",
    "def plot_confusion_matrix(y_true, y_pred, title):\n",
    "    cm = confusion_matrix(y_true, y_pred)\n",
    "    plt.figure(figsize=(5, 4))\n",
    "    sns.heatmap(cm, annot=True, fmt=\"d\", cmap=\"Blues\")\n",
    "    plt.xlabel(\"Predicted\")\n",
    "    plt.ylabel(\"Actual\")\n",
    "    plt.title(title)\n",
    "    plt.show()\n",
    "\n",
    "plot_confusion_matrix(y_test, svm_preds, \"SVM Confusion Matrix\")\n",
    "plot_confusion_matrix(y_test, mlp_preds, \"MLP Confusion Matrix\")\n"
   ]
  }
 ],
 "metadata": {
  "kernelspec": {
   "display_name": "myenv",
   "language": "python",
   "name": "python3"
  },
  "language_info": {
   "codemirror_mode": {
    "name": "ipython",
    "version": 3
   },
   "file_extension": ".py",
   "mimetype": "text/x-python",
   "name": "python",
   "nbconvert_exporter": "python",
   "pygments_lexer": "ipython3",
   "version": "3.12.3"
  }
 },
 "nbformat": 4,
 "nbformat_minor": 2
}
